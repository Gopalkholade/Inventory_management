{
 "cells": [
  {
   "cell_type": "code",
   "execution_count": 1,
   "id": "299bb08a",
   "metadata": {},
   "outputs": [],
   "source": [
    "#importing the required packages\n",
    "import json\n",
    "import time\n",
    "\n",
    "#initializing sales variable as empty str\n",
    "sale=''\n",
    "#reading/importing the data\n",
    "fd=open(\"Record.json\",'r')\n",
    "js=fd.read()\n",
    "fd.close()\n",
    "#by default json stores the data in str format\n",
    "#function to convert imported str data to dictionary type\n",
    "record=json.loads(js)\n"
   ]
  },
  {
   "cell_type": "code",
   "execution_count": 2,
   "id": "a80bba43",
   "metadata": {},
   "outputs": [
    {
     "data": {
      "text/plain": [
       "{'1001': {'Name': '5-Star', 'price': 10, 'qn': 94},\n",
       " '1002': {'Name': 'Bar-One', 'price': 20, 'qn': 79},\n",
       " '1003': {'Name': 'Candy', 'price': 2, 'qn': 976},\n",
       " '1004': {'Name': 'Chocolate-Cake', 'price': 550, 'qn': 8},\n",
       " '1005': {'Name': 'Bluebarry Cake', 'price': 650, 'qn': 5}}"
      ]
     },
     "execution_count": 2,
     "metadata": {},
     "output_type": "execute_result"
    }
   ],
   "source": [
    "#reading the sample\n",
    "record"
   ]
  },
  {
   "cell_type": "code",
   "execution_count": 3,
   "id": "c0f0ae35",
   "metadata": {},
   "outputs": [],
   "source": [
    "def is_match(inp,pattern):\n",
    "    return pattern.match(inp)\n",
    "\n",
    "def inpt(st,pattern):\n",
    "    inp=input(st)\n",
    "    if is_match(inp,pattern):\n",
    "        return inp\n",
    "    else:\n",
    "        return inpt('Enter a valid '+st,pattern)"
   ]
  },
  {
   "cell_type": "code",
   "execution_count": 4,
   "id": "ed9d1a96",
   "metadata": {},
   "outputs": [
    {
     "name": "stdout",
     "output_type": "stream",
     "text": [
      "---------------------------Menu-------------------------\n",
      "1001 : 5-Star | 10 | 94\n",
      "----------------------------------------\n",
      "1002 : Bar-One | 20 | 79\n",
      "----------------------------------------\n",
      "1003 : Candy | 2 | 976\n",
      "----------------------------------------\n",
      "1004 : Chocolate-Cake | 550 | 8\n",
      "----------------------------------------\n",
      "1005 : Bluebarry Cake | 650 | 5\n",
      "----------------------------------------\n",
      "\n",
      "               Bill               \n",
      "-------------------------------------\n",
      "Product         :  Bar-One\n",
      "Price(Rs)       :  20 Rs\n",
      "Ordered quantity:  4\n",
      "-----------------------------------------\n",
      "Billing Ammount : 80 Rs\n",
      "-----------------------------------------\n"
     ]
    }
   ],
   "source": [
    "print(\"---------------------------Menu-------------------------\")\n",
    "#printing the dictionary with all its values \n",
    "for key in record.keys():\n",
    "    print(key,\":\",record[key][\"Name\"],\"|\",record[key][\"price\"],\"|\",record[key][\"qn\"])\n",
    "    print(\"----------------------------------------\")\n",
    "\n",
    "#asking for the inputs like name, phno, mail, product id, quantity etc\n",
    "import re\n",
    "Patt_number = re.compile(\"(0|91)?[6-9][0-9]{9}\")\n",
    "Patt_Mail   = re.compile(\"[A-Za-z0-9]+[@]+[\\w]+.+[\\w]+\")\n",
    "\n",
    "ur_Name=str(input(\"Enter your name       : \"))\n",
    "ur_ph  =str(inpt('Number:',Patt_number))\n",
    "ur_mail=str(inpt('Mail: ',Patt_Mail))\n",
    "ur_pr  =str(input(\"Enter product id      : \"))\n",
    "ur_qn  =int(input(\"enter product quntity : \"))\n",
    "\n",
    "# checking for condition to be true\n",
    "if record[ur_pr]['qn']>=ur_qn:\n",
    "    record[ur_pr]['qn']=record[ur_pr]['qn']-ur_qn\n",
    "    print(\"\\n               Bill               \")\n",
    "    print(\"-------------------------------------\")\n",
    "    print(\"Product         : \",record[ur_pr][\"Name\"])\n",
    "    print(\"Price(Rs)       : \",record[ur_pr][\"price\"],\"Rs\")\n",
    "    print(\"Ordered quantity: \",ur_qn)\n",
    "\n",
    "    print(\"-----------------------------------------\")\n",
    "    print(\"Billing Ammount :\",record[ur_pr][\"price\"]*ur_qn,\"Rs\")\n",
    "    print(\"-----------------------------------------\")\n",
    "    sale=ur_Name+','+ur_mail+','+ur_ph+','+ur_pr+','+record[ur_pr]['Name']+','+str(ur_qn)+','+str(record[ur_pr]['price'])+','+str(record[ur_pr][\"price\"]*ur_qn)+','+time.ctime()+'\\n'\n",
    "else:\n",
    "#     if not true will start here\n",
    "    print(\"Sorry, we are not habving enough quantity in our Inventory\")\n",
    "    print(\"we are only having \",record[ur_pr]['qn'],\" of quantity\")\n",
    "    ind=input(\"Do you want to purcess ?, Enter'Y/y' to continue!\")\n",
    "    if ind=='Y'or ind=='y':\n",
    "        print(\"\\n               Bill               \")\n",
    "        print(\"-------------------------------------\")\n",
    "        print(\"Product         : \",record[ur_pr][\"Name\"])\n",
    "        print(\"Price(Rs)       : \",record[ur_pr][\"price\"],\"Rs\")\n",
    "        print(\"Ordered quantity: \",record[ur_pr]['qn'])\n",
    "        print(\"-----------------------------------------\")\n",
    "        print(\"Billing Ammount :\",record[ur_pr][\"price\"]*record[ur_pr]['qn'],\"Rs\")\n",
    "        print(\"-----------------------------------------\")\n",
    "        sale=ur_Name+','+ur_mail+','+ur_ph+','+ur_pr+','+record[ur_pr]['Name']+','+str(record[ur_pr]['qn'])+','+str(record[ur_pr]['price'])+','+str(record[ur_pr][\"price\"]*record[ur_pr]['qn'])+','+time.ctime()+'\\n'\n",
    "        \n",
    "        record[ur_pr]['qn']=0\n",
    "    else:\n",
    "        print(\"Thanks!\")\n",
    "# dumping record to json        \n",
    "js=json.dumps(record)\n",
    "# dumping sales to sales csv file\n",
    "tx=open(\"sales.csv\",'a+')\n",
    "tx.write(sale)\n",
    "tx.close()\n",
    "\n",
    "# now dumping json to record\n",
    "fd=open(\"Record.json\",'w')\n",
    "fd.write(js)\n",
    "fd.close()\n"
   ]
  },
  {
   "cell_type": "code",
   "execution_count": null,
   "id": "08b4152c",
   "metadata": {},
   "outputs": [],
   "source": []
  }
 ],
 "metadata": {
  "kernelspec": {
   "display_name": "Python 3.9.12 ('base')",
   "language": "python",
   "name": "python3"
  },
  "language_info": {
   "codemirror_mode": {
    "name": "ipython",
    "version": 3
   },
   "file_extension": ".py",
   "mimetype": "text/x-python",
   "name": "python",
   "nbconvert_exporter": "python",
   "pygments_lexer": "ipython3",
   "version": "3.9.12"
  },
  "vscode": {
   "interpreter": {
    "hash": "b2457210ea716e35dc15c425b29cd0d6b7697c1e848a156279e9b72b004d2971"
   }
  }
 },
 "nbformat": 4,
 "nbformat_minor": 5
}
